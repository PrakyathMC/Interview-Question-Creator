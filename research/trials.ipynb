{
 "cells": [
  {
   "cell_type": "code",
   "execution_count": 1,
   "id": "fcd19d49",
   "metadata": {},
   "outputs": [
    {
     "name": "stdout",
     "output_type": "stream",
     "text": [
      "ok\n"
     ]
    }
   ],
   "source": [
    "print(\"ok\")"
   ]
  },
  {
   "cell_type": "code",
   "execution_count": 3,
   "id": "f96ba43c",
   "metadata": {},
   "outputs": [],
   "source": [
    "import os\n",
    "from dotenv import load_dotenv"
   ]
  },
  {
   "cell_type": "code",
   "execution_count": 5,
   "id": "67b036ba",
   "metadata": {},
   "outputs": [],
   "source": [
    "load_dotenv()\n",
    "OPENAI_API_KEY = os.getenv(\"OPENAI_API_KEY\")"
   ]
  },
  {
   "cell_type": "code",
   "execution_count": 6,
   "id": "24ac1d00",
   "metadata": {},
   "outputs": [],
   "source": [
    "os.environ[\"OPENAI_API_KEY\"] = OPENAI_API_KEY"
   ]
  },
  {
   "cell_type": "code",
   "execution_count": 7,
   "id": "ca323106",
   "metadata": {},
   "outputs": [],
   "source": [
    "from langchain.document_loaders import PyPDFLoader "
   ]
  },
  {
   "cell_type": "code",
   "execution_count": 8,
   "id": "a6696378",
   "metadata": {},
   "outputs": [
    {
     "data": {
      "text/plain": [
       "'d:\\\\final_attempt_at_GENAI\\\\7_projects\\\\Interview-Question-Creator\\\\research'"
      ]
     },
     "execution_count": 8,
     "metadata": {},
     "output_type": "execute_result"
    }
   ],
   "source": [
    "%pwd"
   ]
  },
  {
   "cell_type": "code",
   "execution_count": 10,
   "id": "4dd38be3",
   "metadata": {},
   "outputs": [
    {
     "name": "stdout",
     "output_type": "stream",
     "text": [
      "d:\\final_attempt_at_GENAI\\7_projects\\Interview-Question-Creator\n"
     ]
    }
   ],
   "source": [
    "%cd .."
   ]
  },
  {
   "cell_type": "code",
   "execution_count": 11,
   "id": "a9d1c45f",
   "metadata": {},
   "outputs": [
    {
     "data": {
      "text/plain": [
       "'d:\\\\final_attempt_at_GENAI\\\\7_projects\\\\Interview-Question-Creator'"
      ]
     },
     "execution_count": 11,
     "metadata": {},
     "output_type": "execute_result"
    }
   ],
   "source": [
    "%pwd"
   ]
  },
  {
   "cell_type": "code",
   "execution_count": 12,
   "id": "e2ecfb7c",
   "metadata": {},
   "outputs": [],
   "source": [
    "file_path = \"data/stats.pdf\"\n",
    "loader = PyPDFLoader(file_path)\n",
    "data = loader.load()"
   ]
  },
  {
   "cell_type": "code",
   "execution_count": 13,
   "id": "c1b4cbfc",
   "metadata": {},
   "outputs": [
    {
     "data": {
      "text/plain": [
       "[Document(metadata={'producer': 'Skia/PDF m120 Google Docs Renderer', 'creator': 'PyPDF', 'creationdate': '', 'title': 'Report - Importance and the use of correlation in Statistics', 'source': 'data/stats.pdf', 'total_pages': 3, 'page': 0, 'page_label': '1'}, page_content='ImportanceandtheuseofcorrelationinStatistics\\nIntroduction\\nCorrelationisastatistical measurethat expressestheextent towhichtwovariablesarelinearlyrelated. It isacommontool fordescribingsimplerelationshipswithout makingastatement about causeandeffect.Correlationcoefficientsrangefrom-1to1, withavalueof 0indicatingnolinearrelationshipbetweenthetwovariables, avalueof 1indicatingaperfect positivelinearrelationship, andavalueof -1indicatingaperfectnegativelinearrelationship.\\nCorrelationisimportantinstatisticsbecauseitcanbeusedto\\n1. Identifyrelationshipsbetweenvariables:Correlationcanbeusedtoidentifywhetherthereisarelationshipbetweentwovariables, andif so, whethertherelationshipispositiveornegative. Thisinformationcanbeuseful forunderstandingtherelationshipsbetweendifferent factorsinacomplexsystem.\\n2. Makepredictions:If thereisastrongcorrelationbetweentwovariables, it ispossibletousethevalueof onevariabletopredictthevalueof theothervariable. Thiscanbeuseful formakingpredictionsinavarietyof fields, suchasbusiness, finance, andmedicine.\\n3. Developcausalmodels:Correlationcanbeusedasastartingpoint fordevelopingcausal models, whicharemodelsthatdescribehowchangesinonevariablecausechangesinothervariables. Causal modelscanbeusedtomakemoreaccuratepredictionsandtodevelopinterventionstochangethevaluesofspecificvariables.'),\n",
       " Document(metadata={'producer': 'Skia/PDF m120 Google Docs Renderer', 'creator': 'PyPDF', 'creationdate': '', 'title': 'Report - Importance and the use of correlation in Statistics', 'source': 'data/stats.pdf', 'total_pages': 3, 'page': 1, 'page_label': '2'}, page_content='Correlationisusedinawidevarietyoffieldsincluding\\n1. Business:Correlationcanbeusedtoidentifyrelationshipsbetweendifferent businessvariables, suchassales, advertisingspending, andcustomersatisfaction. Thisinformationcanbeusedtomakebetterbusinessdecisions, suchashowtoallocatemarketingresources.\\n2. Finance:Correlationcanbeusedtoidentifyrelationshipsbetweendifferent financial assets, suchasstocks, bonds, andcommodities.Thisinformationcanbeusedtobuilddiversifiedportfoliosthatreducerisk.\\n3. Medicine:Correlationcanbeusedtoidentifyrelationshipsbetweendifferent medical variables, suchasriskfactorsfordiseasesandtheeffectivenessof treatments. Thisinformationcanbeusedtoimprovetheprevention, diagnosis, andtreatment ofdiseases.\\n4. Psychology:Correlationcanbeusedtoidentifyrelationshipsbetweendifferent psychological variables, suchaspersonalitytraits, cognitiveabilities, andmental disorders. Thisinformationcanbeusedtodevelopbetterpsychological assessmentsandtreatments.\\nHowcorrelationisusedintherealworld\\n1. Amarketingmanagermight usecorrelationtoidentifytherelationshipbetweenadvertisingspendingandsales. Thisinformationcouldbeusedtodecidehowmuchmoneytoallocatetoadvertising.\\n2. Afinancial analyst might usecorrelationtoidentifytherelationshipbetweenthereturnsof different stocks. Thisinformationcouldbe'),\n",
       " Document(metadata={'producer': 'Skia/PDF m120 Google Docs Renderer', 'creator': 'PyPDF', 'creationdate': '', 'title': 'Report - Importance and the use of correlation in Statistics', 'source': 'data/stats.pdf', 'total_pages': 3, 'page': 2, 'page_label': '3'}, page_content='usedtobuildaportfolioof stocksthat isdiversifiedandhasaloweroverall risk.\\n3. Amedical researchermight usecorrelationtoidentifytherelationshipbetweensmokingandlungcancer. Thisinformationcouldbeusedtodeveloppublichealthcampaignstodiscouragesmoking.\\n4. Apsychologist might usecorrelationtoidentifytherelationshipbetweenanxietyanddepression. Thisinformationcouldbeusedtodevelopmoreeffectivetreatmentsforanxietyanddepression.\\nConclusion\\nItisimportanttonotethatcorrelationdoesnotequalcausation.Justbecausetwovariablesarecorrelateddoesnotmeanthatonevariablecausestheother. Forexample,thereisastrongcorrelationbetweenicecreamsalesandsharkattacks.However, thisdoesnotmeanthateatingicecreamcausessharkattacks.Instead,thereislikelyathirdvariable,suchashotweather, thatcausesbothicecreamsalesandsharkattackstoincrease.\\nOverall,correlationisapowerfulstatisticaltoolthatcanbeusedtoidentifyrelationshipsbetweenvariables,makepredictions,anddevelopcausalmodels.Itisusedinawidevarietyoffieldstomakebetterdecisionsandimproveoutcomes.')]"
      ]
     },
     "execution_count": 13,
     "metadata": {},
     "output_type": "execute_result"
    }
   ],
   "source": [
    "data"
   ]
  },
  {
   "cell_type": "code",
   "execution_count": null,
   "id": "ac256357",
   "metadata": {},
   "outputs": [],
   "source": [
    "#getting data as 1 information and not as 3 page data\n",
    "question_gen = \"\"\n",
    "\n",
    "for page in data:\n",
    "    question_gen += page.page_content"
   ]
  },
  {
   "cell_type": "code",
   "execution_count": 15,
   "id": "81269563",
   "metadata": {},
   "outputs": [
    {
     "data": {
      "text/plain": [
       "'ImportanceandtheuseofcorrelationinStatistics\\nIntroduction\\nCorrelationisastatistical measurethat expressestheextent towhichtwovariablesarelinearlyrelated. It isacommontool fordescribingsimplerelationshipswithout makingastatement about causeandeffect.Correlationcoefficientsrangefrom-1to1, withavalueof 0indicatingnolinearrelationshipbetweenthetwovariables, avalueof 1indicatingaperfect positivelinearrelationship, andavalueof -1indicatingaperfectnegativelinearrelationship.\\nCorrelationisimportantinstatisticsbecauseitcanbeusedto\\n1. Identifyrelationshipsbetweenvariables:Correlationcanbeusedtoidentifywhetherthereisarelationshipbetweentwovariables, andif so, whethertherelationshipispositiveornegative. Thisinformationcanbeuseful forunderstandingtherelationshipsbetweendifferent factorsinacomplexsystem.\\n2. Makepredictions:If thereisastrongcorrelationbetweentwovariables, it ispossibletousethevalueof onevariabletopredictthevalueof theothervariable. Thiscanbeuseful formakingpredictionsinavarietyof fields, suchasbusiness, finance, andmedicine.\\n3. Developcausalmodels:Correlationcanbeusedasastartingpoint fordevelopingcausal models, whicharemodelsthatdescribehowchangesinonevariablecausechangesinothervariables. Causal modelscanbeusedtomakemoreaccuratepredictionsandtodevelopinterventionstochangethevaluesofspecificvariables.Correlationisusedinawidevarietyoffieldsincluding\\n1. Business:Correlationcanbeusedtoidentifyrelationshipsbetweendifferent businessvariables, suchassales, advertisingspending, andcustomersatisfaction. Thisinformationcanbeusedtomakebetterbusinessdecisions, suchashowtoallocatemarketingresources.\\n2. Finance:Correlationcanbeusedtoidentifyrelationshipsbetweendifferent financial assets, suchasstocks, bonds, andcommodities.Thisinformationcanbeusedtobuilddiversifiedportfoliosthatreducerisk.\\n3. Medicine:Correlationcanbeusedtoidentifyrelationshipsbetweendifferent medical variables, suchasriskfactorsfordiseasesandtheeffectivenessof treatments. Thisinformationcanbeusedtoimprovetheprevention, diagnosis, andtreatment ofdiseases.\\n4. Psychology:Correlationcanbeusedtoidentifyrelationshipsbetweendifferent psychological variables, suchaspersonalitytraits, cognitiveabilities, andmental disorders. Thisinformationcanbeusedtodevelopbetterpsychological assessmentsandtreatments.\\nHowcorrelationisusedintherealworld\\n1. Amarketingmanagermight usecorrelationtoidentifytherelationshipbetweenadvertisingspendingandsales. Thisinformationcouldbeusedtodecidehowmuchmoneytoallocatetoadvertising.\\n2. Afinancial analyst might usecorrelationtoidentifytherelationshipbetweenthereturnsof different stocks. Thisinformationcouldbeusedtobuildaportfolioof stocksthat isdiversifiedandhasaloweroverall risk.\\n3. Amedical researchermight usecorrelationtoidentifytherelationshipbetweensmokingandlungcancer. Thisinformationcouldbeusedtodeveloppublichealthcampaignstodiscouragesmoking.\\n4. Apsychologist might usecorrelationtoidentifytherelationshipbetweenanxietyanddepression. Thisinformationcouldbeusedtodevelopmoreeffectivetreatmentsforanxietyanddepression.\\nConclusion\\nItisimportanttonotethatcorrelationdoesnotequalcausation.Justbecausetwovariablesarecorrelateddoesnotmeanthatonevariablecausestheother. Forexample,thereisastrongcorrelationbetweenicecreamsalesandsharkattacks.However, thisdoesnotmeanthateatingicecreamcausessharkattacks.Instead,thereislikelyathirdvariable,suchashotweather, thatcausesbothicecreamsalesandsharkattackstoincrease.\\nOverall,correlationisapowerfulstatisticaltoolthatcanbeusedtoidentifyrelationshipsbetweenvariables,makepredictions,anddevelopcausalmodels.Itisusedinawidevarietyoffieldstomakebetterdecisionsandimproveoutcomes.'"
      ]
     },
     "execution_count": 15,
     "metadata": {},
     "output_type": "execute_result"
    }
   ],
   "source": [
    "question_gen"
   ]
  },
  {
   "cell_type": "code",
   "execution_count": 16,
   "id": "2c40eb7b",
   "metadata": {},
   "outputs": [],
   "source": [
    "# Creating chunks of data\n",
    "\n",
    "from langchain.text_splitter import TokenTextSplitter"
   ]
  },
  {
   "cell_type": "code",
   "execution_count": 17,
   "id": "7697f726",
   "metadata": {},
   "outputs": [],
   "source": [
    "splitter_ques_gen = TokenTextSplitter(\n",
    "    model_name = \"gpt-3.5-turbo\",\n",
    "    chunk_size = 10000,\n",
    "    chunk_overlap = 200\n",
    ")"
   ]
  },
  {
   "cell_type": "code",
   "execution_count": 19,
   "id": "51c38449",
   "metadata": {},
   "outputs": [],
   "source": [
    "chunk_ques_gen = splitter_ques_gen.split_text(question_gen)"
   ]
  },
  {
   "cell_type": "code",
   "execution_count": 20,
   "id": "74e3a58d",
   "metadata": {},
   "outputs": [
    {
     "data": {
      "text/plain": [
       "['ImportanceandtheuseofcorrelationinStatistics\\nIntroduction\\nCorrelationisastatistical measurethat expressestheextent towhichtwovariablesarelinearlyrelated. It isacommontool fordescribingsimplerelationshipswithout makingastatement about causeandeffect.Correlationcoefficientsrangefrom-1to1, withavalueof 0indicatingnolinearrelationshipbetweenthetwovariables, avalueof 1indicatingaperfect positivelinearrelationship, andavalueof -1indicatingaperfectnegativelinearrelationship.\\nCorrelationisimportantinstatisticsbecauseitcanbeusedto\\n1. Identifyrelationshipsbetweenvariables:Correlationcanbeusedtoidentifywhetherthereisarelationshipbetweentwovariables, andif so, whethertherelationshipispositiveornegative. Thisinformationcanbeuseful forunderstandingtherelationshipsbetweendifferent factorsinacomplexsystem.\\n2. Makepredictions:If thereisastrongcorrelationbetweentwovariables, it ispossibletousethevalueof onevariabletopredictthevalueof theothervariable. Thiscanbeuseful formakingpredictionsinavarietyof fields, suchasbusiness, finance, andmedicine.\\n3. Developcausalmodels:Correlationcanbeusedasastartingpoint fordevelopingcausal models, whicharemodelsthatdescribehowchangesinonevariablecausechangesinothervariables. Causal modelscanbeusedtomakemoreaccuratepredictionsandtodevelopinterventionstochangethevaluesofspecificvariables.Correlationisusedinawidevarietyoffieldsincluding\\n1. Business:Correlationcanbeusedtoidentifyrelationshipsbetweendifferent businessvariables, suchassales, advertisingspending, andcustomersatisfaction. Thisinformationcanbeusedtomakebetterbusinessdecisions, suchashowtoallocatemarketingresources.\\n2. Finance:Correlationcanbeusedtoidentifyrelationshipsbetweendifferent financial assets, suchasstocks, bonds, andcommodities.Thisinformationcanbeusedtobuilddiversifiedportfoliosthatreducerisk.\\n3. Medicine:Correlationcanbeusedtoidentifyrelationshipsbetweendifferent medical variables, suchasriskfactorsfordiseasesandtheeffectivenessof treatments. Thisinformationcanbeusedtoimprovetheprevention, diagnosis, andtreatment ofdiseases.\\n4. Psychology:Correlationcanbeusedtoidentifyrelationshipsbetweendifferent psychological variables, suchaspersonalitytraits, cognitiveabilities, andmental disorders. Thisinformationcanbeusedtodevelopbetterpsychological assessmentsandtreatments.\\nHowcorrelationisusedintherealworld\\n1. Amarketingmanagermight usecorrelationtoidentifytherelationshipbetweenadvertisingspendingandsales. Thisinformationcouldbeusedtodecidehowmuchmoneytoallocatetoadvertising.\\n2. Afinancial analyst might usecorrelationtoidentifytherelationshipbetweenthereturnsof different stocks. Thisinformationcouldbeusedtobuildaportfolioof stocksthat isdiversifiedandhasaloweroverall risk.\\n3. Amedical researchermight usecorrelationtoidentifytherelationshipbetweensmokingandlungcancer. Thisinformationcouldbeusedtodeveloppublichealthcampaignstodiscouragesmoking.\\n4. Apsychologist might usecorrelationtoidentifytherelationshipbetweenanxietyanddepression. Thisinformationcouldbeusedtodevelopmoreeffectivetreatmentsforanxietyanddepression.\\nConclusion\\nItisimportanttonotethatcorrelationdoesnotequalcausation.Justbecausetwovariablesarecorrelateddoesnotmeanthatonevariablecausestheother. Forexample,thereisastrongcorrelationbetweenicecreamsalesandsharkattacks.However, thisdoesnotmeanthateatingicecreamcausessharkattacks.Instead,thereislikelyathirdvariable,suchashotweather, thatcausesbothicecreamsalesandsharkattackstoincrease.\\nOverall,correlationisapowerfulstatisticaltoolthatcanbeusedtoidentifyrelationshipsbetweenvariables,makepredictions,anddevelopcausalmodels.Itisusedinawidevarietyoffieldstomakebetterdecisionsandimproveoutcomes.']"
      ]
     },
     "execution_count": 20,
     "metadata": {},
     "output_type": "execute_result"
    }
   ],
   "source": [
    "chunk_ques_gen"
   ]
  },
  {
   "cell_type": "code",
   "execution_count": null,
   "id": "4664de29",
   "metadata": {},
   "outputs": [
    {
     "data": {
      "text/plain": [
       "1"
      ]
     },
     "execution_count": 21,
     "metadata": {},
     "output_type": "execute_result"
    }
   ],
   "source": [
    "len(chunk_ques_gen) # 1 because data is small"
   ]
  },
  {
   "cell_type": "code",
   "execution_count": 22,
   "id": "3637dc72",
   "metadata": {},
   "outputs": [
    {
     "data": {
      "text/plain": [
       "list"
      ]
     },
     "execution_count": 22,
     "metadata": {},
     "output_type": "execute_result"
    }
   ],
   "source": [
    "type(chunk_ques_gen)"
   ]
  },
  {
   "cell_type": "code",
   "execution_count": 23,
   "id": "ceb66dbd",
   "metadata": {},
   "outputs": [
    {
     "data": {
      "text/plain": [
       "str"
      ]
     },
     "execution_count": 23,
     "metadata": {},
     "output_type": "execute_result"
    }
   ],
   "source": [
    "type(chunk_ques_gen[0])"
   ]
  },
  {
   "cell_type": "markdown",
   "id": "04f3c75f",
   "metadata": {},
   "source": [
    "## We cannot pass str to LLM, hence we have to document format before embedding"
   ]
  },
  {
   "cell_type": "code",
   "execution_count": 25,
   "id": "5f912d9e",
   "metadata": {},
   "outputs": [],
   "source": [
    "from langchain.docstore.document import Document"
   ]
  },
  {
   "cell_type": "code",
   "execution_count": 26,
   "id": "c12adac9",
   "metadata": {},
   "outputs": [],
   "source": [
    "document_ques_gen = [Document(page_content = t)for t in chunk_ques_gen]"
   ]
  },
  {
   "cell_type": "code",
   "execution_count": 27,
   "id": "9e4c9ee3",
   "metadata": {},
   "outputs": [
    {
     "data": {
      "text/plain": [
       "[Document(metadata={}, page_content='ImportanceandtheuseofcorrelationinStatistics\\nIntroduction\\nCorrelationisastatistical measurethat expressestheextent towhichtwovariablesarelinearlyrelated. It isacommontool fordescribingsimplerelationshipswithout makingastatement about causeandeffect.Correlationcoefficientsrangefrom-1to1, withavalueof 0indicatingnolinearrelationshipbetweenthetwovariables, avalueof 1indicatingaperfect positivelinearrelationship, andavalueof -1indicatingaperfectnegativelinearrelationship.\\nCorrelationisimportantinstatisticsbecauseitcanbeusedto\\n1. Identifyrelationshipsbetweenvariables:Correlationcanbeusedtoidentifywhetherthereisarelationshipbetweentwovariables, andif so, whethertherelationshipispositiveornegative. Thisinformationcanbeuseful forunderstandingtherelationshipsbetweendifferent factorsinacomplexsystem.\\n2. Makepredictions:If thereisastrongcorrelationbetweentwovariables, it ispossibletousethevalueof onevariabletopredictthevalueof theothervariable. Thiscanbeuseful formakingpredictionsinavarietyof fields, suchasbusiness, finance, andmedicine.\\n3. Developcausalmodels:Correlationcanbeusedasastartingpoint fordevelopingcausal models, whicharemodelsthatdescribehowchangesinonevariablecausechangesinothervariables. Causal modelscanbeusedtomakemoreaccuratepredictionsandtodevelopinterventionstochangethevaluesofspecificvariables.Correlationisusedinawidevarietyoffieldsincluding\\n1. Business:Correlationcanbeusedtoidentifyrelationshipsbetweendifferent businessvariables, suchassales, advertisingspending, andcustomersatisfaction. Thisinformationcanbeusedtomakebetterbusinessdecisions, suchashowtoallocatemarketingresources.\\n2. Finance:Correlationcanbeusedtoidentifyrelationshipsbetweendifferent financial assets, suchasstocks, bonds, andcommodities.Thisinformationcanbeusedtobuilddiversifiedportfoliosthatreducerisk.\\n3. Medicine:Correlationcanbeusedtoidentifyrelationshipsbetweendifferent medical variables, suchasriskfactorsfordiseasesandtheeffectivenessof treatments. Thisinformationcanbeusedtoimprovetheprevention, diagnosis, andtreatment ofdiseases.\\n4. Psychology:Correlationcanbeusedtoidentifyrelationshipsbetweendifferent psychological variables, suchaspersonalitytraits, cognitiveabilities, andmental disorders. Thisinformationcanbeusedtodevelopbetterpsychological assessmentsandtreatments.\\nHowcorrelationisusedintherealworld\\n1. Amarketingmanagermight usecorrelationtoidentifytherelationshipbetweenadvertisingspendingandsales. Thisinformationcouldbeusedtodecidehowmuchmoneytoallocatetoadvertising.\\n2. Afinancial analyst might usecorrelationtoidentifytherelationshipbetweenthereturnsof different stocks. Thisinformationcouldbeusedtobuildaportfolioof stocksthat isdiversifiedandhasaloweroverall risk.\\n3. Amedical researchermight usecorrelationtoidentifytherelationshipbetweensmokingandlungcancer. Thisinformationcouldbeusedtodeveloppublichealthcampaignstodiscouragesmoking.\\n4. Apsychologist might usecorrelationtoidentifytherelationshipbetweenanxietyanddepression. Thisinformationcouldbeusedtodevelopmoreeffectivetreatmentsforanxietyanddepression.\\nConclusion\\nItisimportanttonotethatcorrelationdoesnotequalcausation.Justbecausetwovariablesarecorrelateddoesnotmeanthatonevariablecausestheother. Forexample,thereisastrongcorrelationbetweenicecreamsalesandsharkattacks.However, thisdoesnotmeanthateatingicecreamcausessharkattacks.Instead,thereislikelyathirdvariable,suchashotweather, thatcausesbothicecreamsalesandsharkattackstoincrease.\\nOverall,correlationisapowerfulstatisticaltoolthatcanbeusedtoidentifyrelationshipsbetweenvariables,makepredictions,anddevelopcausalmodels.Itisusedinawidevarietyoffieldstomakebetterdecisionsandimproveoutcomes.')]"
      ]
     },
     "execution_count": 27,
     "metadata": {},
     "output_type": "execute_result"
    }
   ],
   "source": [
    "document_ques_gen"
   ]
  },
  {
   "cell_type": "code",
   "execution_count": 29,
   "id": "d93f3a31",
   "metadata": {},
   "outputs": [
    {
     "data": {
      "text/plain": [
       "langchain_core.documents.base.Document"
      ]
     },
     "execution_count": 29,
     "metadata": {},
     "output_type": "execute_result"
    }
   ],
   "source": [
    "type(document_ques_gen[0])"
   ]
  },
  {
   "cell_type": "markdown",
   "id": "17cdf213",
   "metadata": {},
   "source": [
    "### The data is now in Document format, Now embedding can be done"
   ]
  },
  {
   "cell_type": "markdown",
   "id": "e105f60d",
   "metadata": {},
   "source": []
  }
 ],
 "metadata": {
  "kernelspec": {
   "display_name": "interview",
   "language": "python",
   "name": "python3"
  },
  "language_info": {
   "codemirror_mode": {
    "name": "ipython",
    "version": 3
   },
   "file_extension": ".py",
   "mimetype": "text/x-python",
   "name": "python",
   "nbconvert_exporter": "python",
   "pygments_lexer": "ipython3",
   "version": "3.10.16"
  }
 },
 "nbformat": 4,
 "nbformat_minor": 5
}
